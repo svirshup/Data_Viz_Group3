{
 "cells": [
  {
   "cell_type": "code",
   "execution_count": 1,
   "metadata": {
    "collapsed": true
   },
   "outputs": [],
   "source": [
    "import pandas as pd\n",
    "import numpy as np\n"
   ]
  },
  {
   "cell_type": "code",
   "execution_count": 2,
   "metadata": {
    "collapsed": true
   },
   "outputs": [],
   "source": [
    "data = pd.read_csv(\"/home/ubuntu/Notebooks/Davis/Data Viz/movie.csv\")"
   ]
  },
  {
   "cell_type": "code",
   "execution_count": 3,
   "metadata": {
    "collapsed": false
   },
   "outputs": [
    {
     "data": {
      "text/html": [
       "<div>\n",
       "<table border=\"1\" class=\"dataframe\">\n",
       "  <thead>\n",
       "    <tr style=\"text-align: right;\">\n",
       "      <th></th>\n",
       "      <th>Day_of_Week</th>\n",
       "      <th>Director</th>\n",
       "      <th>Genre</th>\n",
       "      <th>Movie_Title</th>\n",
       "      <th>Release_Date</th>\n",
       "      <th>Studio</th>\n",
       "      <th>Adjusted_Gross</th>\n",
       "      <th>Budget</th>\n",
       "      <th>Gross_rev</th>\n",
       "      <th>IMDb_Rating</th>\n",
       "      <th>MovieLens_Rating</th>\n",
       "      <th>Overseas_rev</th>\n",
       "      <th>Overseas_Perc</th>\n",
       "      <th>Profit</th>\n",
       "      <th>Profit_perc</th>\n",
       "      <th>Runtime_min</th>\n",
       "      <th>US_rev</th>\n",
       "      <th>US_perc</th>\n",
       "    </tr>\n",
       "  </thead>\n",
       "  <tbody>\n",
       "    <tr>\n",
       "      <th>0</th>\n",
       "      <td>Friday</td>\n",
       "      <td>Brad Bird</td>\n",
       "      <td>action</td>\n",
       "      <td>Tomorrowland</td>\n",
       "      <td>22/05/2015</td>\n",
       "      <td>Buena Vista Studios</td>\n",
       "      <td>202.1</td>\n",
       "      <td>170</td>\n",
       "      <td>202.1</td>\n",
       "      <td>6.7</td>\n",
       "      <td>3.3</td>\n",
       "      <td>111.9</td>\n",
       "      <td>55.4</td>\n",
       "      <td>32.1</td>\n",
       "      <td>18.9</td>\n",
       "      <td>130.0</td>\n",
       "      <td>90.2</td>\n",
       "      <td>44.6</td>\n",
       "    </tr>\n",
       "    <tr>\n",
       "      <th>1</th>\n",
       "      <td>Friday</td>\n",
       "      <td>Scott Waugh</td>\n",
       "      <td>action</td>\n",
       "      <td>Need for Speed</td>\n",
       "      <td>14/03/2014</td>\n",
       "      <td>Buena Vista Studios</td>\n",
       "      <td>204.2</td>\n",
       "      <td>66</td>\n",
       "      <td>203.3</td>\n",
       "      <td>6.6</td>\n",
       "      <td>3.0</td>\n",
       "      <td>159.7</td>\n",
       "      <td>78.6</td>\n",
       "      <td>137.3</td>\n",
       "      <td>208.0</td>\n",
       "      <td>132.0</td>\n",
       "      <td>43.6</td>\n",
       "      <td>21.4</td>\n",
       "    </tr>\n",
       "    <tr>\n",
       "      <th>2</th>\n",
       "      <td>Friday</td>\n",
       "      <td>Patrick Hughes</td>\n",
       "      <td>action</td>\n",
       "      <td>The Expendables 3</td>\n",
       "      <td>15/08/2014</td>\n",
       "      <td>Lionsgate</td>\n",
       "      <td>207.1</td>\n",
       "      <td>100</td>\n",
       "      <td>206.2</td>\n",
       "      <td>6.1</td>\n",
       "      <td>2.9</td>\n",
       "      <td>166.9</td>\n",
       "      <td>80.9</td>\n",
       "      <td>106.2</td>\n",
       "      <td>106.2</td>\n",
       "      <td>126.0</td>\n",
       "      <td>39.3</td>\n",
       "      <td>19.1</td>\n",
       "    </tr>\n",
       "    <tr>\n",
       "      <th>3</th>\n",
       "      <td>Friday</td>\n",
       "      <td>Phil Lord, Chris Miller</td>\n",
       "      <td>comedy</td>\n",
       "      <td>21 Jump Street</td>\n",
       "      <td>16/03/2012</td>\n",
       "      <td>Sony</td>\n",
       "      <td>208.8</td>\n",
       "      <td>42</td>\n",
       "      <td>201.6</td>\n",
       "      <td>7.2</td>\n",
       "      <td>3.6</td>\n",
       "      <td>63.1</td>\n",
       "      <td>31.3</td>\n",
       "      <td>159.6</td>\n",
       "      <td>380.0</td>\n",
       "      <td>109.0</td>\n",
       "      <td>138.4</td>\n",
       "      <td>68.7</td>\n",
       "    </tr>\n",
       "  </tbody>\n",
       "</table>\n",
       "</div>"
      ],
      "text/plain": [
       "  Day_of_Week                 Director   Genre        Movie_Title  \\\n",
       "0      Friday                Brad Bird  action       Tomorrowland   \n",
       "1      Friday              Scott Waugh  action     Need for Speed   \n",
       "2      Friday           Patrick Hughes  action  The Expendables 3   \n",
       "3      Friday  Phil Lord, Chris Miller  comedy     21 Jump Street   \n",
       "\n",
       "  Release_Date               Studio  Adjusted_Gross  Budget  Gross_rev  \\\n",
       "0   22/05/2015  Buena Vista Studios           202.1     170      202.1   \n",
       "1   14/03/2014  Buena Vista Studios           204.2      66      203.3   \n",
       "2   15/08/2014            Lionsgate           207.1     100      206.2   \n",
       "3   16/03/2012                 Sony           208.8      42      201.6   \n",
       "\n",
       "   IMDb_Rating  MovieLens_Rating  Overseas_rev  Overseas_Perc  Profit  \\\n",
       "0          6.7               3.3         111.9           55.4    32.1   \n",
       "1          6.6               3.0         159.7           78.6   137.3   \n",
       "2          6.1               2.9         166.9           80.9   106.2   \n",
       "3          7.2               3.6          63.1           31.3   159.6   \n",
       "\n",
       "   Profit_perc  Runtime_min  US_rev  US_perc  \n",
       "0         18.9        130.0    90.2     44.6  \n",
       "1        208.0        132.0    43.6     21.4  \n",
       "2        106.2        126.0    39.3     19.1  \n",
       "3        380.0        109.0   138.4     68.7  "
      ]
     },
     "execution_count": 3,
     "metadata": {},
     "output_type": "execute_result"
    }
   ],
   "source": [
    "data.head(4)"
   ]
  },
  {
   "cell_type": "code",
   "execution_count": 4,
   "metadata": {
    "collapsed": false
   },
   "outputs": [
    {
     "data": {
      "text/plain": [
       "Genre\n",
       "action         315.957203\n",
       "adventure      417.890000\n",
       "animation      350.040206\n",
       "biography      228.321429\n",
       "comedy         243.902198\n",
       "crime          185.750000\n",
       "documentary    208.800000\n",
       "drama          348.050000\n",
       "fantasy        469.300000\n",
       "horror         249.525000\n",
       "musical        258.250000\n",
       "mystery        207.433333\n",
       "romance        246.750000\n",
       "sci-fi         511.200000\n",
       "thriller       289.653333\n",
       "Name: Profit, dtype: float64"
      ]
     },
     "execution_count": 4,
     "metadata": {},
     "output_type": "execute_result"
    }
   ],
   "source": [
    "data.groupby(\"Genre\")[\"Profit\"].mean()"
   ]
  },
  {
   "cell_type": "code",
   "execution_count": 5,
   "metadata": {
    "collapsed": false
   },
   "outputs": [
    {
     "data": {
      "text/plain": [
       "Studio\n",
       "New Market Films            586.900000\n",
       "Summit Entertainment        557.650000\n",
       "Pacific Data/DreamWorks     445.150000\n",
       "Lionsgate                   412.883333\n",
       "IFC                         363.700000\n",
       "Buena Vista Studios         357.939785\n",
       "Fox                         343.400000\n",
       "Lionsgate/Summit            339.750000\n",
       "WB                          339.438710\n",
       "New Line Cinema             333.643750\n",
       "Orion                       328.950000\n",
       "DreamWorks                  320.950000\n",
       "Paramount Pictures          315.269355\n",
       "Universal                   303.229114\n",
       "Weinstein Company           302.183333\n",
       "Fox Searchlight Pictures    289.775000\n",
       "MGM                         275.262500\n",
       "Sony                        263.615385\n",
       "Art House Studios           248.000000\n",
       "TriStar                     242.490000\n",
       "Gramercy Pictures           237.200000\n",
       "WB/New Line                 233.900000\n",
       "Path_ Distribution          229.800000\n",
       "Colombia Pictures           222.700000\n",
       "MiraMax                     218.060000\n",
       "Lionsgate Films             216.400000\n",
       "Vestron Pictures            208.000000\n",
       "Screen Gems                 206.950000\n",
       "StudioCanal                 204.500000\n",
       "UA Entertainment            198.900000\n",
       "Sony Picture Classics       198.500000\n",
       "Revolution Studios          181.300000\n",
       "Dimension Films             175.700000\n",
       "Disney                      159.850000\n",
       "USA                         159.500000\n",
       "Relativity Media            151.900000\n",
       "Name: Profit, dtype: float64"
      ]
     },
     "execution_count": 5,
     "metadata": {},
     "output_type": "execute_result"
    }
   ],
   "source": [
    "data.groupby(\"Studio\")[\"Profit\"].mean().sort_values(ascending=False)"
   ]
  },
  {
   "cell_type": "code",
   "execution_count": 7,
   "metadata": {
    "collapsed": false
   },
   "outputs": [
    {
     "data": {
      "text/plain": [
       "Index([u'Day_of_Week', u'Director', u'Genre', u'Movie_Title', u'Release_Date',\n",
       "       u'Studio', u'Adjusted_Gross', u'Budget', u'Gross_rev', u'IMDb_Rating',\n",
       "       u'MovieLens_Rating', u'Overseas_rev', u'Overseas_Perc', u'Profit',\n",
       "       u'Profit_perc', u'Runtime_min', u'US_rev', u'US_perc'],\n",
       "      dtype='object')"
      ]
     },
     "execution_count": 7,
     "metadata": {},
     "output_type": "execute_result"
    }
   ],
   "source": [
    "data.columns"
   ]
  },
  {
   "cell_type": "code",
   "execution_count": 8,
   "metadata": {
    "collapsed": true
   },
   "outputs": [],
   "source": [
    "data[\"ROI\"] = np.divide(data[\"Profit\"],data[\"Budget\"])"
   ]
  },
  {
   "cell_type": "markdown",
   "metadata": {},
   "source": [
    "### DeepFlix specialises "
   ]
  },
  {
   "cell_type": "markdown",
   "metadata": {},
   "source": [
    "## Recommendations for Netflix from DeepFlix :"
   ]
  },
  {
   "cell_type": "markdown",
   "metadata": {},
   "source": [
    "## The best Directors for a given Genre: "
   ]
  },
  {
   "cell_type": "code",
   "execution_count": 18,
   "metadata": {
    "collapsed": false
   },
   "outputs": [
    {
     "data": {
      "text/plain": [
       "Genre      Director                                   \n",
       "sci-fi     James Cameron                                  2551.000000\n",
       "drama      James Cameron                                  1986.800000\n",
       "action     James Wan                                      1321.600000\n",
       "fantasy    David Yates                                    1216.500000\n",
       "action     Joss Whedon                                    1210.100000\n",
       "animation  Chris Buck, Jennifer Lee                       1124.200000\n",
       "action     Colin Trevorrow                                1030.900000\n",
       "fantasy    Peter Jackson                                  1025.900000\n",
       "action     Shane Black                                    1015.400000\n",
       "           Sam Mendes                                      908.600000\n",
       "animation  Roger Allers, Rob Minkoff                       908.200000\n",
       "           Lee Unkrich                                     863.200000\n",
       "           Andrew Adamson, Kelly Asbury, Conrad Vernon     849.800000\n",
       "           Andrew Stanton, Lee Unkrich                     842.700000\n",
       "action     Peter Jackson                                   797.250000\n",
       "           Rob Marshall                                    795.700000\n",
       "animation  Steve Martino, Michael Thurmeier                782.200000\n",
       "adventure  David Yates                                     769.866667\n",
       "action     George Lucas                                    749.100000\n",
       "adventure  Mike Newell                                     746.900000\n",
       "action     Francis Lawrence                                734.900000\n",
       "sci-fi     George Lucas                                    723.200000\n",
       "adventure  Chris Columbus                                  696.833333\n",
       "drama      Bill Condon                                     693.500000\n",
       "animation  Chris Renaud, Pierre Coffin                     684.450000\n",
       "adventure  Alfonso Cuar�n                                  666.700000\n",
       "drama      Chris Weitz                                     659.800000\n",
       "animation  Chris Miller, Raman Hui                         639.000000\n",
       "action     Sam Raimi                                       633.133333\n",
       "adventure  Peter Jackson                                   631.500000\n",
       "                                                             ...     \n",
       "action     Scott Waugh                                     137.300000\n",
       "           Mike Newell                                     136.400000\n",
       "fantasy    Tim Burton                                      136.100000\n",
       "mystery    Cameron Crowe                                   133.400000\n",
       "adventure  Baz Luhrmann                                    133.300000\n",
       "comedy     Adam Shankman                                   132.900000\n",
       "action     David Ayer                                      131.800000\n",
       "fantasy    Chris Columbus                                  131.500000\n",
       "crime      Brett Ratner                                    131.200000\n",
       "fantasy    Francis Lawrence                                130.900000\n",
       "animation  Rob Minkoff                                     127.900000\n",
       "musical    Adam Shankman                                   127.500000\n",
       "adventure  Rob Letterman                                   125.400000\n",
       "biography  Bryan Singer                                    125.300000\n",
       "action     Daniel Espinosa                                 123.100000\n",
       "sci-fi     Jose Padilha                                    122.700000\n",
       "animation  Eric Brevig                                     121.600000\n",
       "action     Michel Gondry                                   117.800000\n",
       "           Antoine Fuqua                                   113.600000\n",
       "           Peter Hyams                                     112.000000\n",
       "biography  Michael Mann                                    111.600000\n",
       "animation  Gore Verbinski                                  110.700000\n",
       "adventure  Brad Silberling                                 109.100000\n",
       "action     Mark Steven Johnson                             108.700000\n",
       "           Patrick Hughes                                  106.200000\n",
       "comedy     Tim Burton                                       95.500000\n",
       "action     Kevin Reynolds, Kevin Costner                    89.200000\n",
       "           Peter Weir                                       77.000000\n",
       "comedy     Dean Parisot                                     62.000000\n",
       "sci-fi     Andrew Stanton                                   20.400000\n",
       "Name: Profit, dtype: float64"
      ]
     },
     "execution_count": 18,
     "metadata": {},
     "output_type": "execute_result"
    }
   ],
   "source": [
    "data.groupby([\"Genre\",\"Director\"])[\"Profit\"].mean().sort_values(ascending=False)"
   ]
  },
  {
   "cell_type": "markdown",
   "metadata": {},
   "source": [
    "## How to select the Studio from a given Budget and Genre ?\n"
   ]
  },
  {
   "cell_type": "code",
   "execution_count": 23,
   "metadata": {
    "collapsed": false
   },
   "outputs": [
    {
     "data": {
      "text/plain": [
       "Genre        Studio                  \n",
       "sci-fi       Buena Vista Studios         264.000000\n",
       "adventure    New Line Cinema             205.000000\n",
       "action       Pacific Data/DreamWorks     185.333333\n",
       "sci-fi       Paramount Pictures          165.000000\n",
       "adventure    WB                          161.461538\n",
       "action       Buena Vista Studios         155.200000\n",
       "animation    Pacific Data/DreamWorks     144.230769\n",
       "thriller     Sony                        137.500000\n",
       "drama        Lionsgate/Summit            136.000000\n",
       "action       Sony                        131.181818\n",
       "adventure    Summit Entertainment        128.000000\n",
       "             Lionsgate                   125.000000\n",
       "             Buena Vista Studios         124.666667\n",
       "action       WB                          123.609756\n",
       "sci-fi       Sony                        120.000000\n",
       "             WB                          118.500000\n",
       "             Fox                         114.375000\n",
       "animation    Paramount Pictures          113.000000\n",
       "fantasy      WB                          112.500000\n",
       "action       Universal                   111.406250\n",
       "biography    MiraMax                     110.000000\n",
       "action       Lionsgate/Summit            110.000000\n",
       "animation    Buena Vista Studios         106.650000\n",
       "action       Paramount Pictures          102.909091\n",
       "animation    Fox                         101.842105\n",
       "adventure    Fox                         101.500000\n",
       "action       Fox                         101.029412\n",
       "biography    Paramount Pictures          100.000000\n",
       "adventure    Sony                         99.000000\n",
       "action       Lionsgate                    98.400000\n",
       "                                            ...    \n",
       "             UA Entertainment             28.000000\n",
       "drama        TriStar                      26.000000\n",
       "comedy       MiraMax                      25.000000\n",
       "drama        New Market Films             25.000000\n",
       "romance      Weinstein Company            21.000000\n",
       "thriller     Orion                        20.000000\n",
       "drama        Colombia Pictures            20.000000\n",
       "adventure    Orion                        19.000000\n",
       "horror       MiraMax                      17.000000\n",
       "             WB                           16.000000\n",
       "action       Sony Picture Classics        15.000000\n",
       "drama        MiraMax                      15.000000\n",
       "biography    Weinstein Company            15.000000\n",
       "drama        Path_ Distribution           15.000000\n",
       "             MGM                          14.500000\n",
       "romance      TriStar                      14.500000\n",
       "drama        Fox Searchlight Pictures     13.500000\n",
       "thriller     Universal                    12.000000\n",
       "comedy       Gramercy Pictures            11.500000\n",
       "drama        Weinstein Company            10.000000\n",
       "crime        MiraMax                       8.000000\n",
       "horror       WB/New Line                   7.000000\n",
       "crime        Paramount Pictures            7.000000\n",
       "musical      Paramount Pictures            6.000000\n",
       "drama        Vestron Pictures              6.000000\n",
       "documentary  Lionsgate Films               6.000000\n",
       "comedy       Fox Searchlight Pictures      5.500000\n",
       "             IFC                           5.000000\n",
       "horror       Paramount Pictures            5.000000\n",
       "             Art House Studios             1.000000\n",
       "Name: Budget, dtype: float64"
      ]
     },
     "execution_count": 23,
     "metadata": {},
     "output_type": "execute_result"
    }
   ],
   "source": [
    "\n",
    "data.groupby([\"Genre\",\"Studio\"])[\"Budget\"].mean().sort_values(ascending=False)"
   ]
  },
  {
   "cell_type": "markdown",
   "metadata": {},
   "source": [
    "## How Studios are affecting the ROI ?"
   ]
  },
  {
   "cell_type": "code",
   "execution_count": 9,
   "metadata": {
    "collapsed": false
   },
   "outputs": [
    {
     "data": {
      "text/plain": [
       "Studio\n",
       "Art House Studios           248.000000\n",
       "IFC                          72.740000\n",
       "Fox Searchlight Pictures     36.497115\n",
       "Lionsgate Films              36.066667\n",
       "Vestron Pictures             34.666667\n",
       "Gramercy Pictures            30.597778\n",
       "New Market Films             23.476000\n",
       "Orion                        16.980658\n",
       "Weinstein Company            16.507333\n",
       "MGM                          16.464116\n",
       "Path_ Distribution           15.320000\n",
       "Sony Picture Classics        13.233333\n",
       "MiraMax                      11.896703\n",
       "WB/New Line                  10.557840\n",
       "Paramount Pictures            9.175964\n",
       "Summit Entertainment          9.161710\n",
       "TriStar                       8.284491\n",
       "Colombia Pictures             7.723764\n",
       "Universal                     6.523237\n",
       "New Line Cinema               6.354592\n",
       "DreamWorks                    6.227863\n",
       "Fox                           5.881624\n",
       "UA Entertainment              5.701405\n",
       "Buena Vista Studios           4.679208\n",
       "WB                            4.286202\n",
       "Disney                        4.250444\n",
       "Lionsgate                     3.962240\n",
       "Dimension Films               3.904444\n",
       "StudioCanal                   3.718182\n",
       "Screen Gems                   3.405451\n",
       "USA                           3.322917\n",
       "Lionsgate/Summit              3.216949\n",
       "Sony                          2.987833\n",
       "Pacific Data/DreamWorks       2.914584\n",
       "Revolution Studios            2.416368\n",
       "Relativity Media              2.025333\n",
       "Name: ROI, dtype: float64"
      ]
     },
     "execution_count": 9,
     "metadata": {},
     "output_type": "execute_result"
    }
   ],
   "source": [
    "data.groupby(\"Studio\")[\"ROI\"].mean().sort_values(ascending =False)"
   ]
  }
 ],
 "metadata": {
  "kernelspec": {
   "display_name": "Python 2",
   "language": "python",
   "name": "python2"
  },
  "language_info": {
   "codemirror_mode": {
    "name": "ipython",
    "version": 2
   },
   "file_extension": ".py",
   "mimetype": "text/x-python",
   "name": "python",
   "nbconvert_exporter": "python",
   "pygments_lexer": "ipython2",
   "version": "2.7.13"
  }
 },
 "nbformat": 4,
 "nbformat_minor": 2
}
